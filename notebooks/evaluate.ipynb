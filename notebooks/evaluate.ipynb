{
 "cells": [
  {
   "cell_type": "code",
   "execution_count": 5,
   "metadata": {
    "collapsed": true
   },
   "outputs": [],
   "source": [
    "require 'image';\n",
    "paths.dofile('./../eval_helper.lua');\n",
    "net = nil\n",
    "collectgarbage()"
   ]
  },
  {
   "cell_type": "code",
   "execution_count": 6,
   "metadata": {
    "collapsed": false
   },
   "outputs": [
    {
     "ename": "cannot open /home/kivan/source/deep-learning/semantic_segmentation/output/train_helper.lua: No such file or directory\nstack traceback:\n\t[C]: in function 'dofile'\n\t.../nets/pyramid_2s_concat_TueMar15_13:31:21/model_copy.lua:18: in main chunk\n\t[C]: in function 'dofile'\n\t[string \"--local net_dir = '/home/kivan/source/deep-le...\"]:8: in main chunk\n\t[C]: in function 'xpcall'\n\t...ries/install/torch/install/share/lua/5.1/itorch/main.lua:209: in function <...ries/install/torch/install/share/lua/5.1/itorch/main.lua:173>\n\t...ries/install/torch/install/share/lua/5.1/lzmq/poller.lua:75: in function 'poll'\n\t...s/install/torch/install/share/lua/5.1/lzmq/impl/loop.lua:307: in function 'poll'\n\t...s/install/torch/install/share/lua/5.1/lzmq/impl/loop.lua:325: in function 'sleep_ex'\n\t...s/install/torch/install/share/lua/5.1/lzmq/impl/loop.lua:370: in function 'start'\n\t...ries/install/torch/install/share/lua/5.1/itorch/main.lua:381: in main chunk\n\t[C]: in function 'require'\n\t(command line):1: in main chunk\n\t[C]: at 0x00405be0",
     "evalue": "",
     "output_type": "error",
     "traceback": [
      "cannot open /home/kivan/source/deep-learning/semantic_segmentation/output/train_helper.lua: No such file or directory\nstack traceback:\n\t[C]: in function 'dofile'\n\t.../nets/pyramid_2s_concat_TueMar15_13:31:21/model_copy.lua:18: in main chunk\n\t[C]: in function 'dofile'\n\t[string \"--local net_dir = '/home/kivan/source/deep-le...\"]:8: in main chunk\n\t[C]: in function 'xpcall'\n\t...ries/install/torch/install/share/lua/5.1/itorch/main.lua:209: in function <...ries/install/torch/install/share/lua/5.1/itorch/main.lua:173>\n\t...ries/install/torch/install/share/lua/5.1/lzmq/poller.lua:75: in function 'poll'\n\t...s/install/torch/install/share/lua/5.1/lzmq/impl/loop.lua:307: in function 'poll'\n\t...s/install/torch/install/share/lua/5.1/lzmq/impl/loop.lua:325: in function 'sleep_ex'\n\t...s/install/torch/install/share/lua/5.1/lzmq/impl/loop.lua:370: in function 'start'\n\t...ries/install/torch/install/share/lua/5.1/itorch/main.lua:381: in main chunk\n\t[C]: in function 'require'\n\t(command line):1: in main chunk\n\t[C]: at 0x00405be0"
     ]
    }
   ],
   "source": [
    "--local net_dir = '/home/kivan/source/deep-learning/semantic_segmentation/output/nets/16s_SunMar615:58:072016/'\n",
    "--local net_dir = '/home/kivan/source/deep-learning/semantic_segmentation/output/results/SunMar617:01:082016/' SunMar617:36:082016\n",
    "--local net_dir = '/home/kivan/source/deep-learning/semantic_segmentation/output/nets/wgt100_SunMar617:36:082016/'\n",
    "--local net_dir = '/home/kivan/source/deep-learning/semantic_segmentation/output/results/SatMar12_11:53:04/'\n",
    "local net_dir = '/home/kivan/source/deep-learning/semantic_segmentation/output/nets/pyramid_2s_concat_TueMar15_13:31:21'\n",
    "--local net_dir = '/home/kivan/source/deep-learning/semantic_segmentation/output/nets/wgt1000_MonMar711:18:232016/'\n",
    "local model_path = net_dir .. '/model_copy.lua'\n",
    "_, loss, train_container, validation_container = paths.dofile(model_path)\n",
    "net = torch.load(net_dir .. \"net.bin\")\n",
    "net:evaluate()\n",
    "print(validation_container:size())"
   ]
  },
  {
   "cell_type": "code",
   "execution_count": 4,
   "metadata": {
    "collapsed": false
   },
   "outputs": [],
   "source": [
    "function ComputePrediction(net, data, name)\n",
    "  --local out_dir = param_data_dir .. '/img/' .. name .. '/softmax_potentials/'\n",
    "  --os.execute('mkdir -p ' .. out_dir)\n",
    "  net:evaluate()\n",
    "  local x, yt, weights, filename = data:GetNextBatch()\n",
    "  local num_batches = 0\n",
    "  while x do\n",
    "    num_batches = num_batches + 1\n",
    "    local y = net:forward(x)\n",
    "    local _, pred = y:max(2)\n",
    "    pred = pred[1][1]:int()\n",
    "    print(pred:size())\n",
    "    local rgb_img = image.load(param_data_dir .. '/../img/data/' .. name .. '/' .. filename:sub(1,filename:find('_')-1) .. '/' .. filename)\n",
    "    local rgb_label = image.load(param_data_dir .. '/../img/labels/' .. name .. '/' .. filename:sub(1,filename:find('_')-1) .. '/' .. filename)\n",
    "    itorch.image(rgb_label)\n",
    "    itorch.image(rgb_img)\n",
    "    local pred_rgb = DrawPrediction(pred)\n",
    "    itorch.image(pred_rgb)\n",
    "    yt = yt[1]:int()\n",
    "    print(pred_rgb[1]:size())\n",
    "    local mask = yt:eq(pred)\n",
    "    mask[yt:eq(0)] = 1\n",
    "    pred_rgb[1][mask] = 0\n",
    "    pred_rgb[2][mask] = 0\n",
    "    pred_rgb[3][mask] = 0\n",
    "    --pred_rgb[{{},mask}] = 0\n",
    "    itorch.image(pred_rgb)\n",
    "\n",
    "    x, yt, weights, filename = data:GetNextBatch()\n",
    "    collectgarbage()\n",
    "  end\n",
    "end"
   ]
  },
  {
   "cell_type": "code",
   "execution_count": 6,
   "metadata": {
    "collapsed": false,
    "scrolled": false
   },
   "outputs": [
    {
     "ename": "cannot open </home/kivan/datasets/Cityscapes/1024x464/torch//val/1_val_data.t7> in mode r  at /home/kivan/libraries/install/torch/pkg/torch/lib/TH/THDiskFile.c:640\nstack traceback:\n\t[C]: at 0x7fa230b5b160\n\t[C]: in function 'DiskFile'\n\t...aries/install/torch/install/share/lua/5.1/torch/File.lua:388: in function 'load'\n\t...semantic_segmentation/torch/data_container_multifile.lua:60: in function 'ReadNextFile'\n\t...semantic_segmentation/torch/data_container_multifile.lua:77: in function 'GetNextBatch'\n\t[string \"function ComputePrediction(net, data, name)...\"]:5: in function 'f'\n\t[string \"local f = function() return --ComputePredicti...\"]:2: in main chunk\n\t[C]: in function 'xpcall'\n\t...ries/install/torch/install/share/lua/5.1/itorch/main.lua:209: in function <...ries/install/torch/install/share/lua/5.1/itorch/main.lua:173>\n\t...ries/install/torch/install/share/lua/5.1/lzmq/poller.lua:75: in function 'poll'\n\t...s/install/torch/install/share/lua/5.1/lzmq/impl/loop.lua:307: in function 'poll'\n\t...s/install/torch/install/share/lua/5.1/lzmq/impl/loop.lua:325: in function 'sleep_ex'\n\t...s/install/torch/install/share/lua/5.1/lzmq/impl/loop.lua:370: in function 'start'\n\t...ries/install/torch/install/share/lua/5.1/itorch/main.lua:381: in main chunk\n\t[C]: in function 'require'\n\t(command line):1: in main chunk\n\t[C]: at 0x00405be0",
     "evalue": "",
     "output_type": "error",
     "traceback": [
      "cannot open </home/kivan/datasets/Cityscapes/1024x464/torch//val/1_val_data.t7> in mode r  at /home/kivan/libraries/install/torch/pkg/torch/lib/TH/THDiskFile.c:640\nstack traceback:\n\t[C]: at 0x7fa230b5b160\n\t[C]: in function 'DiskFile'\n\t...aries/install/torch/install/share/lua/5.1/torch/File.lua:388: in function 'load'\n\t...semantic_segmentation/torch/data_container_multifile.lua:60: in function 'ReadNextFile'\n\t...semantic_segmentation/torch/data_container_multifile.lua:77: in function 'GetNextBatch'\n\t[string \"function ComputePrediction(net, data, name)...\"]:5: in function 'f'\n\t[string \"local f = function() return --ComputePredicti...\"]:2: in main chunk\n\t[C]: in function 'xpcall'\n\t...ries/install/torch/install/share/lua/5.1/itorch/main.lua:209: in function <...ries/install/torch/install/share/lua/5.1/itorch/main.lua:173>\n\t...ries/install/torch/install/share/lua/5.1/lzmq/poller.lua:75: in function 'poll'\n\t...s/install/torch/install/share/lua/5.1/lzmq/impl/loop.lua:307: in function 'poll'\n\t...s/install/torch/install/share/lua/5.1/lzmq/impl/loop.lua:325: in function 'sleep_ex'\n\t...s/install/torch/install/share/lua/5.1/lzmq/impl/loop.lua:370: in function 'start'\n\t...ries/install/torch/install/share/lua/5.1/itorch/main.lua:381: in main chunk\n\t[C]: in function 'require'\n\t(command line):1: in main chunk\n\t[C]: at 0x00405be0"
     ]
    }
   ],
   "source": [
    "--ComputePrediction(net, validation_container, 'valid')\n",
    "ComputePrediction(net, validation_container, 'val')"
   ]
  },
  {
   "cell_type": "code",
   "execution_count": 3,
   "metadata": {
    "collapsed": false
   },
   "outputs": [],
   "source": [
    "rgb = torch.randn(1,3,1632,736):cuda()\n",
    "net:training()\n",
    "out = net:forward(rgb)\n",
    "net:backward(out, out)"
   ]
  },
  {
   "cell_type": "code",
   "execution_count": null,
   "metadata": {
    "collapsed": false
   },
   "outputs": [],
   "source": []
  },
  {
   "cell_type": "code",
   "execution_count": null,
   "metadata": {
    "collapsed": false,
    "scrolled": false
   },
   "outputs": [],
   "source": [
    "print(net:get(38);"
   ]
  },
  {
   "cell_type": "code",
   "execution_count": null,
   "metadata": {
    "collapsed": true
   },
   "outputs": [],
   "source": []
  },
  {
   "cell_type": "code",
   "execution_count": null,
   "metadata": {
    "collapsed": true
   },
   "outputs": [],
   "source": []
  }
 ],
 "metadata": {
  "kernelspec": {
   "display_name": "iTorch",
   "language": "lua",
   "name": "itorch"
  },
  "language_info": {
   "name": "lua",
   "version": "5.1"
  }
 },
 "nbformat": 4,
 "nbformat_minor": 0
}
