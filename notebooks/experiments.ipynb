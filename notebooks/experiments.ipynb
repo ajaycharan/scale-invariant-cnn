{
 "cells": [
  {
   "cell_type": "code",
   "execution_count": 4,
   "metadata": {
    "collapsed": false
   },
   "outputs": [],
   "source": [
    "require 'cudnn';"
   ]
  },
  {
   "cell_type": "code",
   "execution_count": 5,
   "metadata": {
    "collapsed": true
   },
   "outputs": [],
   "source": [
    "softmax = cudnn.SpatialLogSoftMax():cuda()"
   ]
  },
  {
   "cell_type": "code",
   "execution_count": 6,
   "metadata": {
    "collapsed": true
   },
   "outputs": [],
   "source": [
    "x = torch.randn(1,11,1,1):fill(1)"
   ]
  },
  {
   "cell_type": "code",
   "execution_count": 7,
   "metadata": {
    "collapsed": false
   },
   "outputs": [
    {
     "data": {
      "text/plain": [
       "(1,1,.,.) = \n",
       " -2.3979\n",
       "\n",
       "(1,2,.,.) = \n",
       " -2.3979\n",
       "\n",
       "(1,3,.,.) = \n",
       " -2.3979\n",
       "\n",
       "(1,4,.,.) = \n",
       " -2.3979\n",
       "\n",
       "(1,5,.,.) = \n",
       " -2.3979\n",
       "\n",
       "(1,6,.,.) = \n",
       " -2.3979\n",
       "\n",
       "(1,7,.,.) = \n",
       " -2.3979\n",
       "\n",
       "(1,8,.,.) = \n",
       " -2.3979\n",
       "\n",
       "(1,9,.,.) = \n",
       " -2.3979\n",
       "\n",
       "(1,10,.,.) = \n",
       " -2.3979\n",
       "\n",
       "(1,11,.,.) = \n",
       " -2.3979\n",
       "[torch.CudaTensor of size 1x11x1x1]\n",
       "\n"
      ]
     },
     "execution_count": 7,
     "metadata": {},
     "output_type": "execute_result"
    }
   ],
   "source": [
    "s:forward(x:cuda())"
   ]
  },
  {
   "cell_type": "code",
   "execution_count": 1,
   "metadata": {
    "collapsed": false
   },
   "outputs": [
    {
     "data": {
      "text/plain": [
       "-2.3978952727984\t\n"
      ]
     },
     "execution_count": 1,
     "metadata": {},
     "output_type": "execute_result"
    }
   ],
   "source": [
    "torch.log(1/11)"
   ]
  }
 ],
 "metadata": {
  "kernelspec": {
   "display_name": "iTorch",
   "language": "lua",
   "name": "itorch"
  },
  "language_info": {
   "name": "lua",
   "version": "5.1"
  }
 },
 "nbformat": 4,
 "nbformat_minor": 0
}
